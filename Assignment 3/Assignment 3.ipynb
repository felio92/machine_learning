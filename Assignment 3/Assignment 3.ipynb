{
 "cells": [
  {
   "cell_type": "code",
   "execution_count": null,
   "metadata": {},
   "outputs": [],
   "source": [
    "import numpy as np\n",
    "import pandas as pd"
   ]
  },
  {
   "cell_type": "code",
   "execution_count": null,
   "metadata": {},
   "outputs": [],
   "source": [
    "def viterbi(obs_space, state_space, init_probs, obs_seq, trans_probs, obs_probs):\n",
    "    T = len(obs_seq)\n",
    "    K = len(state_space)\n",
    "    t1 = np.zeros(shape=(K, T)) #t1[i, j] probability of likeliest path so far (observing y_j) ending in state x_i\n",
    "    t2 = np.zeros(shape=(K, T), dtype=int) #saves the previous state that led to t1[i, j] becoming maximal, allowing backtracing\n",
    "    y = np.array([obs_space.index(obs) for obs in obs_seq]) #save observation sequence as integer array\n",
    "    states = np.array([i for i in range(K)]) #associate each state with an integer index\n",
    "    p = np.asarray(init_probs)\n",
    "    A = np.asarray(trans_probs)\n",
    "    B = np.asarray(obs_probs)\n",
    "    \n",
    "    t1[:, 0] = p + B[:,y[0]]\n",
    "    for j in range(1,T):\n",
    "        for i in range(K):\n",
    "            t1[i, j] = B[i, y[j]] + np.max(t1[:, j-1]+A[:, i])\n",
    "            t2[i, j] = np.argmax(t1[:, j-1]+A[:, i])\n",
    "            \n",
    "    optimal_sequence = np.zeros(T, dtype=int)\n",
    "    z = np.argmax(t1[:, -1])\n",
    "    optimal_sequence[-1] = states[z]\n",
    "    for j in range(T-1,1, -1):\n",
    "        z = t2[z, j]\n",
    "        optimal_sequence[j-1] = states[z]\n",
    "    optimal_state_sequence = [state_space[state_index] for state_index in optimal_sequence]\n",
    "    return t1, optimal_state_sequence    "
   ]
  },
  {
   "cell_type": "code",
   "execution_count": null,
   "metadata": {},
   "outputs": [],
   "source": [
    "state_space = [\"L\", \"H\"]\n",
    "obs_space = [\"A\", \"C\", \"G\", \"T\"]\n",
    "init_probs = [-1, -1]\n",
    "trans_probs = [[-0.737, -1.322],\n",
    "               [-1.000, -1.000]]\n",
    "obs_probs = [[-1.737, -2.322, -2.322, -1.737],\n",
    "             [-2.322, -1.737, -1.737, -2.322]]\n",
    "obs_sequence = [\"G\",\"G\",\"C\",\"A\",\"C\",\"T\",\"G\",\"A\",\"A\"]"
   ]
  },
  {
   "cell_type": "code",
   "execution_count": null,
   "metadata": {},
   "outputs": [],
   "source": [
    "table, optimal_sequence = viterbi(obs_space, state_space, init_probs, obs_sequence, trans_probs, obs_probs)"
   ]
  },
  {
   "cell_type": "code",
   "execution_count": null,
   "metadata": {},
   "outputs": [],
   "source": [
    "#table of log probabilities of most likely paths ending with hidden state H or L for given observed sequence \n",
    "pd.DataFrame(data=table[:][::-1], columns=obs_sequence, index=state_space[::-1])"
   ]
  },
  {
   "cell_type": "code",
   "execution_count": null,
   "metadata": {},
   "outputs": [],
   "source": [
    "#sequence of most likely hidden states given the observed sequence\n",
    "pd.DataFrame(data=[optimal_sequence], columns=obs_sequence, index=[\"most likely sequence\"])"
   ]
  },
  {
   "cell_type": "code",
   "execution_count": null,
   "metadata": {},
   "outputs": [],
   "source": []
  }
 ],
 "metadata": {
  "kernelspec": {
   "display_name": "Python 3",
   "language": "python",
   "name": "python3"
  },
  "language_info": {
   "codemirror_mode": {
    "name": "ipython",
    "version": 3
   },
   "file_extension": ".py",
   "mimetype": "text/x-python",
   "name": "python",
   "nbconvert_exporter": "python",
   "pygments_lexer": "ipython3",
   "version": "3.7.6"
  }
 },
 "nbformat": 4,
 "nbformat_minor": 4
}
