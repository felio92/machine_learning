{
 "cells": [
  {
   "cell_type": "markdown",
   "metadata": {},
   "source": [
    "## KMeans Image Segmentation"
   ]
  },
  {
   "cell_type": "markdown",
   "metadata": {},
   "source": [
    "This code reads an image and treats pixel as three element feature vector of unsupervised data. It performs KMeans clustering of the pixels and then re-colours the image using the median of each colour component within the clusters."
   ]
  },
  {
   "cell_type": "code",
   "execution_count": null,
   "metadata": {},
   "outputs": [],
   "source": [
    "# The usual loading of modules\n",
    "%matplotlib inline\n",
    "import matplotlib.pyplot as plt\n",
    "import matplotlib.image as image\n",
    "import pandas as pd\n",
    "from sklearn import cluster\n",
    "from scipy import misc\n",
    "import numpy as np"
   ]
  },
  {
   "cell_type": "code",
   "execution_count": null,
   "metadata": {},
   "outputs": [],
   "source": [
    "# Load an image.\n",
    "imagex = image.imread(\"parrot.jpeg\") # You may want to test with a smaller image, it will be faster\n",
    "plt.figure(figsize = (15,8))\n",
    "plt.axis(\"off\") # An axis free plot\n",
    "plt.imshow(imagex) # Display the image\n",
    "x, y, z = imagex.shape # Get the dimensions of the image (z is the number of colour bytes)\n",
    "image_2d = imagex.reshape(x*y, z) # Turn the 2D pixels into 1D pixels\n",
    "image_2dr = np.zeros([x*y,z]) # and create an output array for the re-coloured image."
   ]
  },
  {
   "cell_type": "code",
   "execution_count": null,
   "metadata": {},
   "outputs": [],
   "source": [
    "class KMeansCluster(object):\n",
    "    def __init__(self, n_clusters, thresh=10**(-4)):\n",
    "        self.n_clusters = n_clusters\n",
    "        self.thresh = thresh\n",
    "        self.cluster_centers = None\n",
    "        self.cluster_labels = None\n",
    "        self.n_features = None\n",
    "        \n",
    "    def __choose_start_centers__(self, data):\n",
    "        #calculate initial centers according to the k++ algorithm\n",
    "        possible_centers = np.copy(data)\n",
    "        start_centers = np.zeros(shape=(self.n_clusters, self.n_features))\n",
    "        #choose random center from all points\n",
    "        center_index = np.random.choice(len(possible_centers))\n",
    "        start_centers[0] = possible_centers[center_index]\n",
    "        for i in range(1, self.n_clusters):\n",
    "            #only choose from points that haven't been selected before\n",
    "            possible_centers = np.delete(possible_centers, center_index, axis=0)\n",
    "            d_vecs = possible_centers - start_centers[:i, None]\n",
    "            dists = np.linalg.norm(d_vecs, axis=-1)\n",
    "            shortest_distances = np.min(dists, axis=0)\n",
    "            #probability of choosing a point as the next center is proportional\n",
    "            #to its distance to the next center\n",
    "            next_center_probs = shortest_distances**2/np.sum(shortest_distances**2)\n",
    "            center_index = np.random.choice((len(possible_centers)), p=next_center_probs)\n",
    "            start_centers[i] = possible_centers[center_index]\n",
    "        return start_centers\n",
    "            \n",
    "    def fit(self, data):\n",
    "        self.n_features = data.shape[-1]\n",
    "        self.n_vectors = len(data)\n",
    "        changes = np.ones(self.n_clusters)\n",
    "        self.cluster_centers = self.__choose_start_centers__(data)\n",
    "        while any(changes>self.thresh):\n",
    "            #calculate distances between points and current cluster centers\n",
    "            d_vectors = data - self.cluster_centers[:, None]\n",
    "            distances = np.linalg.norm(d_vectors, axis=-1)\n",
    "            #determine index of nearest cluster\n",
    "            self.labels = np.argmin(distances, axis=0)\n",
    "            new_cluster_centers = np.zeros_like(self.cluster_centers) \n",
    "            #calculate new positions of cluster centers by calculating the mean\n",
    "            #of all points belonging to that cluster\n",
    "            for k in range(self.n_clusters):\n",
    "                mask = self.labels == k\n",
    "                new_cluster_centers[k] = np.sum(data[mask], axis=0)/np.sum(mask)\n",
    "            changes = np.linalg.norm(new_cluster_centers-self.cluster_centers, axis=-1)\n",
    "            self.cluster_centers = np.copy(new_cluster_centers)\n",
    "                    "
   ]
  },
  {
   "cell_type": "code",
   "execution_count": null,
   "metadata": {
    "scrolled": false
   },
   "outputs": [],
   "source": [
    "# THIS IS THE PART YOU ARE TO REPLACE\n",
    "cluster_count = 5 # How many clusters we want\n",
    "kmeans_cluster = KMeansCluster(n_clusters=cluster_count) # Create a clusterer\n",
    "kmeans_cluster.fit(image_2d)  # Apply it to the data\n",
    "cluster_centers = kmeans_cluster.cluster_centers # we're not using these\n",
    "cluster_labels = kmeans_cluster.labels # Cluster membership for each pixel"
   ]
  },
  {
   "cell_type": "code",
   "execution_count": null,
   "metadata": {
    "scrolled": false
   },
   "outputs": [],
   "source": [
    "# Turn the clustered data into a DataFrame and add the class as a fourth column\n",
    "cluster_2d = pd.DataFrame(image_2d, columns=list('abc'))\n",
    "cluster_2d['d'] = cluster_labels\n",
    "\n",
    "# loop over each of the clusters and calculate a colour to represent it.\n",
    "for a in range(0,cluster_count):   \n",
    "    subset = cluster_2d.loc[cluster_2d['d'] == a] # Extract all the pixels that belong to the cluster\n",
    "    m = subset.median().values # and calcuate the median of each colour channel\n",
    "    print(m) # Show each of the colours we're going to use\n",
    "    \n",
    "    # Each pixel in the cluster is then painted with the cluster colour\n",
    "    for i in range(0, len(cluster_labels)):\n",
    "        if (cluster_labels[i] == a):\n",
    "            image_2dr[i] = m[0:3]"
   ]
  },
  {
   "cell_type": "code",
   "execution_count": null,
   "metadata": {
    "scrolled": false
   },
   "outputs": [],
   "source": [
    "# Display the results\n",
    "image_out = image_2dr.reshape(x, y, z)/255.0 #Scale to 0-1 range\n",
    "plt.figure(figsize = (15,8))\n",
    "plt.axis(\"off\")\n",
    "plt.imshow(image_out)\n",
    "\n",
    "# Use the following to save the image\n",
    "plt.savefig('clustered_out.png', bbox_inches='tight')"
   ]
  },
  {
   "cell_type": "code",
   "execution_count": null,
   "metadata": {},
   "outputs": [],
   "source": []
  }
 ],
 "metadata": {
  "kernelspec": {
   "display_name": "Python 3",
   "language": "python",
   "name": "python3"
  },
  "language_info": {
   "codemirror_mode": {
    "name": "ipython",
    "version": 3
   },
   "file_extension": ".py",
   "mimetype": "text/x-python",
   "name": "python",
   "nbconvert_exporter": "python",
   "pygments_lexer": "ipython3",
   "version": "3.7.6"
  }
 },
 "nbformat": 4,
 "nbformat_minor": 2
}
