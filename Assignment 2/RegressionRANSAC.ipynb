{
 "cells": [
  {
   "cell_type": "markdown",
   "metadata": {},
   "source": [
    "## Linear Regression and RANSAC"
   ]
  },
  {
   "cell_type": "raw",
   "metadata": {},
   "source": [
    "This example is adapted from: https://scikit-learn.org/stable/auto_examples/linear_model/plot_ransac.html"
   ]
  },
  {
   "cell_type": "code",
   "execution_count": null,
   "metadata": {},
   "outputs": [],
   "source": [
    "# Load the modules we need\n",
    "import numpy as np\n",
    "from matplotlib import pyplot as plt\n",
    "from sklearn import linear_model, datasets"
   ]
  },
  {
   "cell_type": "code",
   "execution_count": null,
   "metadata": {},
   "outputs": [],
   "source": [
    "#  Create some intial data\n",
    "n_samples = 1000\n",
    "\n",
    "X, y = datasets.make_regression(n_samples=n_samples, n_features=1,\n",
    "                                      n_informative=1, noise=10,\n",
    "                                      random_state=0)"
   ]
  },
  {
   "cell_type": "code",
   "execution_count": null,
   "metadata": {},
   "outputs": [],
   "source": [
    "# Add some outlier data\n",
    "np.random.seed(0)\n",
    "n_outliers = 50\n",
    "X[:n_outliers] = 3 + 0.5 * np.random.normal(size=(n_outliers, 1))\n",
    "y[:n_outliers] = -3 + 10 * np.random.normal(size=n_outliers)"
   ]
  },
  {
   "cell_type": "code",
   "execution_count": null,
   "metadata": {},
   "outputs": [],
   "source": [
    "# Create some test positions for for the lines we will draw\n",
    "line_X = np.arange(X.min(), X.max())[:, np.newaxis]"
   ]
  },
  {
   "cell_type": "code",
   "execution_count": null,
   "metadata": {},
   "outputs": [],
   "source": [
    "class LinearRegression(object):\n",
    "    def __init__(self):\n",
    "        self.m = None\n",
    "        self.c = None\n",
    "    def fit(self, X, Y):\n",
    "        X = X.flatten()\n",
    "        #calculate all elements of the system of linear equations that has to be solved\n",
    "        #the solution minimizes the least squares objective function\n",
    "        alpha = np.dot(X, Y)\n",
    "        beta = np.dot(X, X)\n",
    "        gamma = np.sum(X)\n",
    "        delta = np.sum(Y)\n",
    "        N = len(X)\n",
    "        #coefficient matrix M\n",
    "        M = np.array([[beta, gamma],\n",
    "                      [gamma, N]])\n",
    "        #right hand side of system of linear equation\n",
    "        y = np.array([alpha, delta])\n",
    "        #solution consisting of slope m and offset c \n",
    "        sol = np.linalg.solve(M, y)\n",
    "        self.m, self.c = sol\n",
    "    def predict(self, X):\n",
    "        X = X.flatten()\n",
    "        y = self.m*X + self.c\n",
    "        return y\n",
    "        "
   ]
  },
  {
   "cell_type": "code",
   "execution_count": null,
   "metadata": {},
   "outputs": [],
   "source": [
    "# This is the cell you need to replace to complete Task 2.\n",
    "# Fit line using all data.\n",
    "lr = LinearRegression()\n",
    "lr.fit(X, y)\n",
    "line_y = lr.predict(line_X)\n",
    "print(line_y)"
   ]
  },
  {
   "cell_type": "code",
   "execution_count": null,
   "metadata": {},
   "outputs": [],
   "source": [
    "class RANSACRegressor(object):\n",
    "    def __init__(self,thresh, max_trials=100):\n",
    "        self.max_trials = max_trials\n",
    "        self.thresh = thresh\n",
    "        self.m = None\n",
    "        self.c = None\n",
    "        self.inlier_mask_ = None\n",
    "        self.outlier_mask_ = None\n",
    "    def dist_from_line(self, m, c, X, Y):\n",
    "        #shortest distance between a linear function defined by slope m and offset c and a point (X,Y)\n",
    "        return np.sqrt((Y-(m*X+c))**2/(1+m**2))\n",
    "    def fit(self, X, Y):\n",
    "        inliers = 0\n",
    "        best_fit = None\n",
    "        X = X.flatten()\n",
    "        Y = Y.flatten()\n",
    "        for i in range(self.max_trials):\n",
    "            #choose two points at random\n",
    "            chosen_indices=np.random.randint(0, len(X),size=2)\n",
    "            chosen_X, chosen_Y = X[chosen_indices], Y[chosen_indices]\n",
    "            #calculate slope and offset of line that intersects both points\n",
    "            m = (chosen_Y[1] - chosen_Y[0])/(chosen_X[1]-chosen_X[0])\n",
    "            c = chosen_Y[0] - m*chosen_X[0]\n",
    "            #calculate all shortest distances of all points to the line\n",
    "            dists = self.dist_from_line(m, c, X, Y)\n",
    "            #points for which the distances are smaller than the threshold are classified as inliers\n",
    "            inlier_mask = dists<=self.thresh\n",
    "            #calculates the amount of inliers\n",
    "            new_inliers = np.sum(inlier_mask)\n",
    "            if new_inliers>inliers:\n",
    "                #if new inliers exceed previous best, update slope and offset values\n",
    "                inliers = new_inliers\n",
    "                self.m, self.c = m, c\n",
    "        #calculate inlier and outlier mask of the optimal solution that was found\n",
    "        best_dists = self.dist_from_line(self.m, self.c, X, Y)\n",
    "        self.inlier_mask_ = best_dists<=self.thresh\n",
    "        self.outlier_mask_ = best_dists>self.thresh\n",
    "    def predict(self, X):\n",
    "        X = X.flatten()\n",
    "        y = self.m*X + self.c\n",
    "        return y    "
   ]
  },
  {
   "cell_type": "code",
   "execution_count": null,
   "metadata": {},
   "outputs": [],
   "source": [
    "# This is the cell you need to replace to complete Task 3.\n",
    "# Robustly fit linear model with RANSAC algorithm\n",
    "ransac = RANSACRegressor(thresh=1/2)\n",
    "ransac.fit(X, y)\n",
    "\n",
    "# Predict data of estimated models\n",
    "line_y_ransac = ransac.predict(line_X)\n",
    "print(line_y_ransac)\n",
    "\n",
    "# Label the if source data is inlier or outlier\n",
    "inlier_mask = ransac.inlier_mask_\n",
    "outlier_mask = np.logical_not(inlier_mask)"
   ]
  },
  {
   "cell_type": "code",
   "execution_count": null,
   "metadata": {},
   "outputs": [],
   "source": [
    "lw = 2\n",
    "\n",
    "doing_linear = True\n",
    "doing_ransac = True\n",
    "if (doing_linear):\n",
    "    plt.plot(line_X, line_y, color='navy', linewidth=lw, label='Linear regressor')\n",
    "\n",
    "if (doing_ransac):\n",
    "    plt.scatter(X[inlier_mask], y[inlier_mask], color='yellowgreen', marker='.', label='Inliers')\n",
    "    plt.scatter(X[outlier_mask], y[outlier_mask], color='gold', marker='.', label='Outliers')\n",
    "    plt.plot(line_X, line_y_ransac, color='cornflowerblue', linewidth=lw, label='RANSAC regressor')\n",
    "else:\n",
    "    plt.scatter(X, y, color='yellowgreen', marker='.', label='Data')\n",
    "    \n",
    "plt.legend(loc='lower right')\n",
    "plt.xlabel(\"Input\")\n",
    "plt.ylabel(\"Response\")\n",
    "plt.show()"
   ]
  },
  {
   "cell_type": "code",
   "execution_count": null,
   "metadata": {},
   "outputs": [],
   "source": []
  },
  {
   "cell_type": "code",
   "execution_count": null,
   "metadata": {},
   "outputs": [],
   "source": []
  }
 ],
 "metadata": {
  "kernelspec": {
   "display_name": "Python 3",
   "language": "python",
   "name": "python3"
  },
  "language_info": {
   "codemirror_mode": {
    "name": "ipython",
    "version": 3
   },
   "file_extension": ".py",
   "mimetype": "text/x-python",
   "name": "python",
   "nbconvert_exporter": "python",
   "pygments_lexer": "ipython3",
   "version": "3.7.6"
  }
 },
 "nbformat": 4,
 "nbformat_minor": 2
}
